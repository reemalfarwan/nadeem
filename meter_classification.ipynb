{
  "nbformat": 4,
  "nbformat_minor": 0,
  "metadata": {
    "colab": {
      "name": "meter_classification.ipynb",
      "provenance": [],
      "collapsed_sections": [],
      "machine_shape": "hm"
    },
    "kernelspec": {
      "display_name": "Python 3",
      "name": "python3"
    },
    "language_info": {
      "name": "python"
    },
    "accelerator": "GPU"
  },
  "cells": [
    {
      "cell_type": "markdown",
      "metadata": {
        "id": "J5jPO08evIbF"
      },
      "source": [
        "###Install Dependencies"
      ]
    },
    {
      "cell_type": "code",
      "metadata": {
        "id": "mtXT-iaVyURi"
      },
      "source": [
        "# Install `transformers` from master\n",
        "!pip install git+https://github.com/huggingface/transformers\n",
        "!pip list | grep -E 'transformers|tokenizers'\n",
        "# transformers version at notebook update --- 2.11.0\n",
        "# tokenizers version at notebook update --- 0.8.0rc1"
      ],
      "execution_count": null,
      "outputs": []
    },
    {
      "cell_type": "markdown",
      "metadata": {
        "id": "EML58xPDNNCO"
      },
      "source": [
        "Load Data"
      ]
    },
    {
      "cell_type": "code",
      "source": [
        "import pandas as pd\n",
        "\n",
        "\n",
        "df = pd.read_csv('https://raw.githubusercontent.com/reemalfarwan/nadeem/main/Datasets/ar_poem_metres.csv')\n"
      ],
      "metadata": {
        "id": "vR9w-qXBRE6p"
      },
      "execution_count": null,
      "outputs": []
    },
    {
      "cell_type": "code",
      "source": [
        "df.info()"
      ],
      "metadata": {
        "id": "as1A_56FTVof"
      },
      "execution_count": null,
      "outputs": []
    },
    {
      "cell_type": "code",
      "metadata": {
        "id": "QMLUVHGC4qGq"
      },
      "source": [
        "#ٍShuffle the dataframe \n",
        "\n",
        "df = df.sample(frac=1).reset_index(drop=True)\n"
      ],
      "execution_count": null,
      "outputs": []
    },
    {
      "cell_type": "code",
      "source": [
        "df.info()"
      ],
      "metadata": {
        "id": "mC73VMwritVz"
      },
      "execution_count": null,
      "outputs": []
    },
    {
      "cell_type": "code",
      "source": [
        "df.head()"
      ],
      "metadata": {
        "id": "TMPSVIrqcR36"
      },
      "execution_count": null,
      "outputs": []
    },
    {
      "cell_type": "markdown",
      "metadata": {
        "id": "9lyoyQ7ENPTn"
      },
      "source": [
        "Split Data"
      ]
    },
    {
      "cell_type": "code",
      "metadata": {
        "id": "QJKlNFq14eFx"
      },
      "source": [
        "df_train = df[:7898]\n",
        "df_dev = df[7898:9026]\n",
        "df_test = df[9026:]"
      ],
      "execution_count": null,
      "outputs": []
    },
    {
      "cell_type": "code",
      "metadata": {
        "id": "7IlOvA_qyCqj"
      },
      "source": [
        "train_texts, train_labels = df_train['meter'], df_train['label']"
      ],
      "execution_count": null,
      "outputs": []
    },
    {
      "cell_type": "code",
      "metadata": {
        "id": "vYJIq8fgdP0V"
      },
      "source": [
        "dev_texts, dev_labels = df_dev['meter'], df_dev['label']"
      ],
      "execution_count": null,
      "outputs": []
    },
    {
      "cell_type": "code",
      "metadata": {
        "id": "m1tWxTHJV3Kg"
      },
      "source": [
        "test_texts, test_labels = df_test['meter'], df_test['label']"
      ],
      "execution_count": null,
      "outputs": []
    },
    {
      "cell_type": "code",
      "metadata": {
        "id": "WUwqpz-BRwVZ"
      },
      "source": [
        "train_texts = train_texts.tolist()\n",
        "train_labels = train_labels.tolist()\n",
        "print('Train Text:',type(train_texts))\n",
        "print('Train Labels:',type(train_labels))\n",
        "\n",
        "val_texts = dev_texts.tolist()\n",
        "val_labels = dev_labels.tolist()\n",
        "print('Dev Text:',type(val_texts))\n",
        "print('Dev Labels:',type(val_labels))\n",
        " "
      ],
      "execution_count": null,
      "outputs": []
    },
    {
      "cell_type": "code",
      "metadata": {
        "id": "2zEgjG7jV-L1"
      },
      "source": [
        "test_texts = test_texts.to_list()\n",
        "test_labels = test_labels.to_list()\n",
        "print(type(test_texts))\n",
        "print(type(test_labels))\n"
      ],
      "execution_count": null,
      "outputs": []
    },
    {
      "cell_type": "code",
      "metadata": {
        "colab": {
          "base_uri": "https://localhost:8080/"
        },
        "id": "Dl2ArYnuRGf6",
        "outputId": "c43d8edc-d701-4ada-c3b1-1b92c9782bd7"
      },
      "source": [
        "import numpy as np\n",
        "\n",
        "x = np.array(test_labels)\n",
        "print(np.unique(x))\n",
        "    "
      ],
      "execution_count": null,
      "outputs": [
        {
          "output_type": "stream",
          "name": "stdout",
          "text": [
            "[ 0  1  2  3  4  5  6  7  8  9 10 11 12 13]\n"
          ]
        }
      ]
    },
    {
      "cell_type": "code",
      "metadata": {
        "id": "b0MWVu-tcY6S"
      },
      "source": [
        "#Load the tokenizer based on the pretrained language model\n",
        "from transformers import AutoTokenizer, AutoModel\n",
        "from transformers import RobertaTokenizerFast\n",
        "\n",
        "\n",
        "tokenizer = RobertaTokenizerFast.from_pretrained('reemalyami/AraRoBERTa_Poem', max_len=512)\n"
      ],
      "execution_count": null,
      "outputs": []
    },
    {
      "cell_type": "code",
      "metadata": {
        "id": "Rig5CRYKVoIB"
      },
      "source": [
        "#tokenize the text \n",
        "\n",
        "train_encodings = tokenizer(train_texts, truncation=True, padding=True)\n",
        "val_encodings = tokenizer(val_texts, truncation=True, padding=True)\n",
        "test_encodings = tokenizer(test_texts, truncation=True, padding=True)"
      ],
      "execution_count": null,
      "outputs": []
    },
    {
      "cell_type": "code",
      "metadata": {
        "id": "IB3ic5gdiTzM"
      },
      "source": [
        "import torch\n",
        "\n",
        "class DailectDataset(torch.utils.data.Dataset):\n",
        "    def __init__(self, encodings, labels):\n",
        "        self.encodings = encodings\n",
        "        self.labels = labels\n",
        "\n",
        "    def __getitem__(self, idx):\n",
        "        item = {key: torch.tensor(val[idx]) for key, val in self.encodings.items()}\n",
        "        item['labels'] = torch.tensor(self.labels[idx])\n",
        "        return item\n",
        "  \n",
        "    def __len__(self):\n",
        "        return len(self.labels)\n",
        "\n",
        "train_dataset = DailectDataset(train_encodings, train_labels)\n",
        "val_dataset = DailectDataset(val_encodings, val_labels)\n",
        "test_dataset = DailectDataset(test_encodings, test_labels)"
      ],
      "execution_count": null,
      "outputs": []
    },
    {
      "cell_type": "code",
      "metadata": {
        "id": "iPwTFLfpridP"
      },
      "source": [
        "from transformers import  TrainingArguments\n",
        "\n",
        "training_args = TrainingArguments(\n",
        "    output_dir= 'Model/meter_classification',#output this line if you would like to t=run the code\n",
        "    num_train_epochs=3,              # total number of training epochs\n",
        "    per_device_train_batch_size=32,  # batch size per device during training\n",
        "    per_device_eval_batch_size=32,   # batch size for evaluation\n",
        "    warmup_steps=500,                # number of warmup steps for learning rate scheduler\n",
        "    weight_decay=0.01,               # strength of weight decay\n",
        "    logging_steps=10,\n",
        ")"
      ],
      "execution_count": null,
      "outputs": []
    },
    {
      "cell_type": "code",
      "metadata": {
        "id": "r-00twWOrPqN"
      },
      "source": [
        "#Load the pretrained language model \n",
        "\n",
        "from transformers import AutoModelForSequenceClassification,RobertaForSequenceClassification\n",
        "\n",
        "model = RobertaForSequenceClassification.from_pretrained('reemalyami/AraRoBERTa_Poem', num_labels=16)#.to(\"cuda\")\n"
      ],
      "execution_count": null,
      "outputs": []
    },
    {
      "cell_type": "code",
      "metadata": {
        "id": "1BVSNYCQ_bOe"
      },
      "source": [
        "from sklearn.metrics import accuracy_score, precision_recall_fscore_support, confusion_matrix\n",
        "\n",
        "def compute_metrics(pred):\n",
        "    labels = pred.label_ids\n",
        "    preds = pred.predictions.argmax(-1)\n",
        "\n",
        "    precision, recall, f1, _ = precision_recall_fscore_support(labels, preds)#, average=macro)\n",
        "    acc = accuracy_score(labels, preds)\n",
        "    confusion = confusion_matrix(labels, preds)\n",
        "    return {\n",
        "        'Accuracy': acc,\n",
        "        'F1': f1,\n",
        "        'Precision': precision,\n",
        "        'Recall': recall,\n",
        "        'Confusion Matrix': confusion,\n",
        "        'Pred': preds\n",
        "\n",
        "    }"
      ],
      "execution_count": null,
      "outputs": []
    },
    {
      "cell_type": "code",
      "metadata": {
        "id": "BYy7H-8-t4wr"
      },
      "source": [
        "# Load the trainer class \n",
        "from transformers import Trainer\n",
        "\n",
        "\n",
        "trainer = Trainer(\n",
        "    model=model,   \n",
        "    args=training_args,                  # training arguments, defined above\n",
        "    train_dataset=train_dataset,         # training dataset\n",
        "    eval_dataset=val_dataset,\n",
        "    compute_metrics=compute_metrics,           # evaluation dataset\n",
        ")\n",
        "\n"
      ],
      "execution_count": null,
      "outputs": []
    },
    {
      "cell_type": "code",
      "metadata": {
        "id": "IWxdBd8RvI0I"
      },
      "source": [
        "#start training the model\n",
        "trainer.train()"
      ],
      "execution_count": null,
      "outputs": []
    },
    {
      "cell_type": "code",
      "metadata": {
        "id": "yM1WVhk09S-3"
      },
      "source": [
        "trainer.evaluate()"
      ],
      "execution_count": null,
      "outputs": []
    },
    {
      "cell_type": "code",
      "metadata": {
        "id": "GAeQM4D0sbiZ"
      },
      "source": [
        "\n",
        "trainer.predict(test_dataset) "
      ],
      "execution_count": null,
      "outputs": []
    },
    {
      "cell_type": "code",
      "metadata": {
        "id": "de5DEAfD-d8q"
      },
      "source": [
        "# saving the fine tuned model\n",
        "\n",
        "model_path = \"meter_classification_model\"\n",
        "\n",
        "\n",
        "model.save_pretrained(model_path)\n"
      ],
      "execution_count": null,
      "outputs": []
    }
  ]
}