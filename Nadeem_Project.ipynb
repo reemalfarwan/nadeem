{
  "nbformat": 4,
  "nbformat_minor": 0,
  "metadata": {
    "kernelspec": {
      "display_name": "Python 3",
      "language": "python",
      "name": "python3"
    },
    "language_info": {
      "codemirror_mode": {
        "name": "ipython",
        "version": 3
      },
      "file_extension": ".py",
      "mimetype": "text/x-python",
      "name": "python",
      "nbconvert_exporter": "python",
      "pygments_lexer": "ipython3",
      "version": "3.7.4"
    },
    "colab": {
      "name": "Nadeem_Project.ipynb",
      "provenance": [],
      "collapsed_sections": []
    },
    "accelerator": "GPU"
  },
  "cells": [
    {
      "cell_type": "markdown",
      "source": [
        "#Nadeem Pipeline\n",
        "\n",
        "1. The project takes a sentence from the user that expresses the user's feelings. \n",
        "2. The sentence is inputed into a sentiment analysis model.\n",
        "3. The sentiment output is taken, and a random verse (بيت شعر) is printed based on the label.\n",
        "4. Finally, the meter (البحر الشعري للبيت) is predicted for the verse using a contextual language model. Namely, RoBERTa trained on classical Arabic poetry (الشعر الجاهلي) developed by the team to utilize for further poetry tasks.\n",
        "\n",
        "![picture](https://drive.google.com/uc?export=view&id=1NhFOAC947HXuqkmUdhfV8G6HucA66x66)\n",
        "\n",
        "\n",
        "\n",
        "\n",
        "\n",
        "\n",
        "#Nadeem Datasets\n",
        "The Training data is available on github through this [Link](https://github.com/reemalfarwan/nadeem/tree/main/Datasets)\n",
        "\n",
        "#Nadeem Models\n",
        "1. AraRoBERTa_Poem. \n",
        "- Colab Page:  [link](https://colab.research.google.com/drive/1XIcJuiV7pXoO_G9_BnYhKeiekK0IAWio?usp=sharing)\n",
        "- Available on Hugginingface: [Link](https://huggingface.co/reemalyami/AraRoBERTa_Poem)\n",
        "\n",
        "2. AraRoBERTa_Poem_Classification\n",
        "\n",
        "- Colab Page:  [link](https://drive.google.com/file/d/1RbdXGMt3rVn0dLnFUjMDF5VMdM1zB8o-/view?usp=sharing)\n",
        "- Available on Hugginingface: [Link](https://huggingface.co/reemalyami/AraRoBERTa_Poem_classification)\n",
        "\n",
        "###Team Members\n",
        "1. Ahmed AlZoman. (Ahmadalzoman@gmail.com)\n",
        "2. Reem AlFarwan. (alfarwan.reem@gmail.com)\n",
        "3. Abdurahman AlShanqiti. (abdulrahmansh31@gmail.com)"
      ],
      "metadata": {
        "id": "cwu4V-5fNBQO"
      }
    },
    {
      "cell_type": "markdown",
      "source": [
        "###Install Dependencies "
      ],
      "metadata": {
        "id": "wcHoF0xbM9d2"
      }
    },
    {
      "cell_type": "code",
      "source": [
        "# Install `transformers` from master\n",
        "!pip install git+https://github.com/huggingface/transformers\n",
        "!pip list | grep -E 'transformers|tokenizers'"
      ],
      "metadata": {
        "colab": {
          "base_uri": "https://localhost:8080/"
        },
        "id": "RE9hztYM4Lek",
        "outputId": "f94eb7f9-f9f4-40af-e75b-2fa349de7aa9"
      },
      "execution_count": null,
      "outputs": [
        {
          "output_type": "stream",
          "name": "stdout",
          "text": [
            "Looking in indexes: https://pypi.org/simple, https://us-python.pkg.dev/colab-wheels/public/simple/\n",
            "Collecting git+https://github.com/huggingface/transformers\n",
            "  Cloning https://github.com/huggingface/transformers to /tmp/pip-req-build-berhcdfj\n",
            "  Running command git clone -q https://github.com/huggingface/transformers /tmp/pip-req-build-berhcdfj\n",
            "  Installing build dependencies ... \u001b[?25l\u001b[?25hdone\n",
            "  Getting requirements to build wheel ... \u001b[?25l\u001b[?25hdone\n",
            "    Preparing wheel metadata ... \u001b[?25l\u001b[?25hdone\n",
            "Collecting huggingface-hub<1.0,>=0.1.0\n",
            "  Downloading huggingface_hub-0.7.0-py3-none-any.whl (86 kB)\n",
            "\u001b[K     |████████████████████████████████| 86 kB 4.1 MB/s \n",
            "\u001b[?25hRequirement already satisfied: tqdm>=4.27 in /usr/local/lib/python3.7/dist-packages (from transformers==4.20.0.dev0) (4.64.0)\n",
            "Requirement already satisfied: packaging>=20.0 in /usr/local/lib/python3.7/dist-packages (from transformers==4.20.0.dev0) (21.3)\n",
            "Requirement already satisfied: filelock in /usr/local/lib/python3.7/dist-packages (from transformers==4.20.0.dev0) (3.7.0)\n",
            "Collecting pyyaml>=5.1\n",
            "  Downloading PyYAML-6.0-cp37-cp37m-manylinux_2_5_x86_64.manylinux1_x86_64.manylinux_2_12_x86_64.manylinux2010_x86_64.whl (596 kB)\n",
            "\u001b[K     |████████████████████████████████| 596 kB 17.0 MB/s \n",
            "\u001b[?25hRequirement already satisfied: numpy>=1.17 in /usr/local/lib/python3.7/dist-packages (from transformers==4.20.0.dev0) (1.21.6)\n",
            "Requirement already satisfied: requests in /usr/local/lib/python3.7/dist-packages (from transformers==4.20.0.dev0) (2.23.0)\n",
            "Requirement already satisfied: importlib-metadata in /usr/local/lib/python3.7/dist-packages (from transformers==4.20.0.dev0) (4.11.3)\n",
            "Collecting tokenizers!=0.11.3,<0.13,>=0.11.1\n",
            "  Downloading tokenizers-0.12.1-cp37-cp37m-manylinux_2_12_x86_64.manylinux2010_x86_64.whl (6.6 MB)\n",
            "\u001b[K     |████████████████████████████████| 6.6 MB 53.5 MB/s \n",
            "\u001b[?25hRequirement already satisfied: regex!=2019.12.17 in /usr/local/lib/python3.7/dist-packages (from transformers==4.20.0.dev0) (2019.12.20)\n",
            "Requirement already satisfied: typing-extensions>=3.7.4.3 in /usr/local/lib/python3.7/dist-packages (from huggingface-hub<1.0,>=0.1.0->transformers==4.20.0.dev0) (4.2.0)\n",
            "Requirement already satisfied: pyparsing!=3.0.5,>=2.0.2 in /usr/local/lib/python3.7/dist-packages (from packaging>=20.0->transformers==4.20.0.dev0) (3.0.9)\n",
            "Requirement already satisfied: zipp>=0.5 in /usr/local/lib/python3.7/dist-packages (from importlib-metadata->transformers==4.20.0.dev0) (3.8.0)\n",
            "Requirement already satisfied: idna<3,>=2.5 in /usr/local/lib/python3.7/dist-packages (from requests->transformers==4.20.0.dev0) (2.10)\n",
            "Requirement already satisfied: chardet<4,>=3.0.2 in /usr/local/lib/python3.7/dist-packages (from requests->transformers==4.20.0.dev0) (3.0.4)\n",
            "Requirement already satisfied: certifi>=2017.4.17 in /usr/local/lib/python3.7/dist-packages (from requests->transformers==4.20.0.dev0) (2022.5.18.1)\n",
            "Requirement already satisfied: urllib3!=1.25.0,!=1.25.1,<1.26,>=1.21.1 in /usr/local/lib/python3.7/dist-packages (from requests->transformers==4.20.0.dev0) (1.24.3)\n",
            "Building wheels for collected packages: transformers\n",
            "  Building wheel for transformers (PEP 517) ... \u001b[?25l\u001b[?25hdone\n",
            "  Created wheel for transformers: filename=transformers-4.20.0.dev0-py3-none-any.whl size=4301956 sha256=94c73e58566bf5b7a25cea9a734cf301c63661264e05653c4418e355cad979f7\n",
            "  Stored in directory: /tmp/pip-ephem-wheel-cache-_hq5cpte/wheels/35/2e/a7/d819e3310040329f0f47e57c9e3e7a7338aa5e74c49acfe522\n",
            "Successfully built transformers\n",
            "Installing collected packages: pyyaml, tokenizers, huggingface-hub, transformers\n",
            "  Attempting uninstall: pyyaml\n",
            "    Found existing installation: PyYAML 3.13\n",
            "    Uninstalling PyYAML-3.13:\n",
            "      Successfully uninstalled PyYAML-3.13\n",
            "Successfully installed huggingface-hub-0.7.0 pyyaml-6.0 tokenizers-0.12.1 transformers-4.20.0.dev0\n",
            "tokenizers                    0.12.1\n",
            "transformers                  4.20.0.dev0\n"
          ]
        }
      ]
    },
    {
      "cell_type": "markdown",
      "source": [
        "###Import Libraries"
      ],
      "metadata": {
        "id": "sm34E9cijePd"
      }
    },
    {
      "cell_type": "code",
      "metadata": {
        "id": "ZTDKqfhsLi2D"
      },
      "source": [
        "import pandas as pd\n",
        "\n",
        "import csv\n",
        "import re # for regular expression\n",
        "import string\n",
        "import numpy as np \n",
        "\n",
        "from sklearn.feature_extraction.text import TfidfVectorizer\n",
        "from sklearn.model_selection import train_test_split\n",
        "from sklearn import svm\n",
        "\n",
        "from sklearn.model_selection import cross_val_score, cross_val_predict, KFold\n",
        "from sklearn.metrics  import confusion_matrix, classification_report\n",
        "from sklearn import metrics\n",
        "from sklearn.preprocessing import StandardScaler\n"
      ],
      "execution_count": null,
      "outputs": []
    },
    {
      "cell_type": "markdown",
      "source": [
        "### Load Training Data\n",
        "\n",
        "The SVM Model is used to develop a sentiment analysis model, the process takes few seconds only :)"
      ],
      "metadata": {
        "id": "XN9Ogsy0jjRV"
      }
    },
    {
      "cell_type": "code",
      "metadata": {
        "id": "XLjfZXjMLi2J"
      },
      "source": [
        "df = pd.read_csv('https://raw.githubusercontent.com/reemalfarwan/nadeem/main/Datasets/saudi_sentiment.csv')"
      ],
      "execution_count": null,
      "outputs": []
    },
    {
      "cell_type": "code",
      "source": [
        "df.head()"
      ],
      "metadata": {
        "colab": {
          "base_uri": "https://localhost:8080/",
          "height": 206
        },
        "id": "Qurphe7I0lml",
        "outputId": "98a2918a-44d2-4c2a-f887-ed2a551948ce"
      },
      "execution_count": null,
      "outputs": [
        {
          "output_type": "execute_result",
          "data": {
            "text/plain": [
              "             id                                              tweet  label\n",
              "0  1.529675e+18  علموه ان المفارق علي المشتاق شين وعلموه ان كان...      2\n",
              "1  1.529671e+18  صاح قلبي وكان وده يتبعك وطاحت دموعي لان الحظ ش...      2\n",
              "2  1.529662e+18  طارق الحبيب  انسحب عليه لا عاد يقدم برامج ولا ...      2\n",
              "3  1.529660e+18               ليش محد قال اسمي معقوله لهالدرجه شين      2\n",
              "4  1.529653e+18  شف البعض منهم البعض يعميهم الريال حتي لو هو شي...      2"
            ],
            "text/html": [
              "\n",
              "  <div id=\"df-21abdbc9-979f-4871-99fa-0e2e2e5de08b\">\n",
              "    <div class=\"colab-df-container\">\n",
              "      <div>\n",
              "<style scoped>\n",
              "    .dataframe tbody tr th:only-of-type {\n",
              "        vertical-align: middle;\n",
              "    }\n",
              "\n",
              "    .dataframe tbody tr th {\n",
              "        vertical-align: top;\n",
              "    }\n",
              "\n",
              "    .dataframe thead th {\n",
              "        text-align: right;\n",
              "    }\n",
              "</style>\n",
              "<table border=\"1\" class=\"dataframe\">\n",
              "  <thead>\n",
              "    <tr style=\"text-align: right;\">\n",
              "      <th></th>\n",
              "      <th>id</th>\n",
              "      <th>tweet</th>\n",
              "      <th>label</th>\n",
              "    </tr>\n",
              "  </thead>\n",
              "  <tbody>\n",
              "    <tr>\n",
              "      <th>0</th>\n",
              "      <td>1.529675e+18</td>\n",
              "      <td>علموه ان المفارق علي المشتاق شين وعلموه ان كان...</td>\n",
              "      <td>2</td>\n",
              "    </tr>\n",
              "    <tr>\n",
              "      <th>1</th>\n",
              "      <td>1.529671e+18</td>\n",
              "      <td>صاح قلبي وكان وده يتبعك وطاحت دموعي لان الحظ ش...</td>\n",
              "      <td>2</td>\n",
              "    </tr>\n",
              "    <tr>\n",
              "      <th>2</th>\n",
              "      <td>1.529662e+18</td>\n",
              "      <td>طارق الحبيب  انسحب عليه لا عاد يقدم برامج ولا ...</td>\n",
              "      <td>2</td>\n",
              "    </tr>\n",
              "    <tr>\n",
              "      <th>3</th>\n",
              "      <td>1.529660e+18</td>\n",
              "      <td>ليش محد قال اسمي معقوله لهالدرجه شين</td>\n",
              "      <td>2</td>\n",
              "    </tr>\n",
              "    <tr>\n",
              "      <th>4</th>\n",
              "      <td>1.529653e+18</td>\n",
              "      <td>شف البعض منهم البعض يعميهم الريال حتي لو هو شي...</td>\n",
              "      <td>2</td>\n",
              "    </tr>\n",
              "  </tbody>\n",
              "</table>\n",
              "</div>\n",
              "      <button class=\"colab-df-convert\" onclick=\"convertToInteractive('df-21abdbc9-979f-4871-99fa-0e2e2e5de08b')\"\n",
              "              title=\"Convert this dataframe to an interactive table.\"\n",
              "              style=\"display:none;\">\n",
              "        \n",
              "  <svg xmlns=\"http://www.w3.org/2000/svg\" height=\"24px\"viewBox=\"0 0 24 24\"\n",
              "       width=\"24px\">\n",
              "    <path d=\"M0 0h24v24H0V0z\" fill=\"none\"/>\n",
              "    <path d=\"M18.56 5.44l.94 2.06.94-2.06 2.06-.94-2.06-.94-.94-2.06-.94 2.06-2.06.94zm-11 1L8.5 8.5l.94-2.06 2.06-.94-2.06-.94L8.5 2.5l-.94 2.06-2.06.94zm10 10l.94 2.06.94-2.06 2.06-.94-2.06-.94-.94-2.06-.94 2.06-2.06.94z\"/><path d=\"M17.41 7.96l-1.37-1.37c-.4-.4-.92-.59-1.43-.59-.52 0-1.04.2-1.43.59L10.3 9.45l-7.72 7.72c-.78.78-.78 2.05 0 2.83L4 21.41c.39.39.9.59 1.41.59.51 0 1.02-.2 1.41-.59l7.78-7.78 2.81-2.81c.8-.78.8-2.07 0-2.86zM5.41 20L4 18.59l7.72-7.72 1.47 1.35L5.41 20z\"/>\n",
              "  </svg>\n",
              "      </button>\n",
              "      \n",
              "  <style>\n",
              "    .colab-df-container {\n",
              "      display:flex;\n",
              "      flex-wrap:wrap;\n",
              "      gap: 12px;\n",
              "    }\n",
              "\n",
              "    .colab-df-convert {\n",
              "      background-color: #E8F0FE;\n",
              "      border: none;\n",
              "      border-radius: 50%;\n",
              "      cursor: pointer;\n",
              "      display: none;\n",
              "      fill: #1967D2;\n",
              "      height: 32px;\n",
              "      padding: 0 0 0 0;\n",
              "      width: 32px;\n",
              "    }\n",
              "\n",
              "    .colab-df-convert:hover {\n",
              "      background-color: #E2EBFA;\n",
              "      box-shadow: 0px 1px 2px rgba(60, 64, 67, 0.3), 0px 1px 3px 1px rgba(60, 64, 67, 0.15);\n",
              "      fill: #174EA6;\n",
              "    }\n",
              "\n",
              "    [theme=dark] .colab-df-convert {\n",
              "      background-color: #3B4455;\n",
              "      fill: #D2E3FC;\n",
              "    }\n",
              "\n",
              "    [theme=dark] .colab-df-convert:hover {\n",
              "      background-color: #434B5C;\n",
              "      box-shadow: 0px 1px 3px 1px rgba(0, 0, 0, 0.15);\n",
              "      filter: drop-shadow(0px 1px 2px rgba(0, 0, 0, 0.3));\n",
              "      fill: #FFFFFF;\n",
              "    }\n",
              "  </style>\n",
              "\n",
              "      <script>\n",
              "        const buttonEl =\n",
              "          document.querySelector('#df-21abdbc9-979f-4871-99fa-0e2e2e5de08b button.colab-df-convert');\n",
              "        buttonEl.style.display =\n",
              "          google.colab.kernel.accessAllowed ? 'block' : 'none';\n",
              "\n",
              "        async function convertToInteractive(key) {\n",
              "          const element = document.querySelector('#df-21abdbc9-979f-4871-99fa-0e2e2e5de08b');\n",
              "          const dataTable =\n",
              "            await google.colab.kernel.invokeFunction('convertToInteractive',\n",
              "                                                     [key], {});\n",
              "          if (!dataTable) return;\n",
              "\n",
              "          const docLinkHtml = 'Like what you see? Visit the ' +\n",
              "            '<a target=\"_blank\" href=https://colab.research.google.com/notebooks/data_table.ipynb>data table notebook</a>'\n",
              "            + ' to learn more about interactive tables.';\n",
              "          element.innerHTML = '';\n",
              "          dataTable['output_type'] = 'display_data';\n",
              "          await google.colab.output.renderOutput(dataTable, element);\n",
              "          const docLink = document.createElement('div');\n",
              "          docLink.innerHTML = docLinkHtml;\n",
              "          element.appendChild(docLink);\n",
              "        }\n",
              "      </script>\n",
              "    </div>\n",
              "  </div>\n",
              "  "
            ]
          },
          "metadata": {},
          "execution_count": 4
        }
      ]
    },
    {
      "cell_type": "code",
      "source": [
        "data= df['tweet']\n",
        "target= df['label']"
      ],
      "metadata": {
        "id": "jRp05im_O6OV"
      },
      "execution_count": null,
      "outputs": []
    },
    {
      "cell_type": "code",
      "source": [
        "#conevrt the text into numeric values using TF-IDF\n",
        "\n",
        "tfidf_vectorizer=TfidfVectorizer(use_idf=True, max_df=0.95)\n",
        "text_feature_set=tfidf_vectorizer.fit_transform(data)"
      ],
      "metadata": {
        "id": "mc7LI3K2HKnI"
      },
      "execution_count": null,
      "outputs": []
    },
    {
      "cell_type": "code",
      "source": [
        "# Split the data to training and testing \n",
        "X_train, X_test, y_train, y_test = train_test_split(text_feature_set, target, test_size=0.20, random_state=0)\n",
        "print(X_train.shape,X_test.shape,y_train.shape,y_test.shape)\n"
      ],
      "metadata": {
        "colab": {
          "base_uri": "https://localhost:8080/"
        },
        "id": "r26dnsEJOz5p",
        "outputId": "72e6dba1-ab53-4c4c-b2ff-3c2a574727c9"
      },
      "execution_count": null,
      "outputs": [
        {
          "output_type": "stream",
          "name": "stdout",
          "text": [
            "(1602, 8061) (401, 8061) (1602,) (401,)\n"
          ]
        }
      ]
    },
    {
      "cell_type": "code",
      "metadata": {
        "colab": {
          "base_uri": "https://localhost:8080/"
        },
        "id": "uc-8XUJ0Li2N",
        "outputId": "d847258b-63cd-4634-f80c-bfae81d3714d"
      },
      "source": [
        "#Train the Model \n",
        "\n",
        "import time \n",
        "start = time.time()\n",
        "classifier_svm = svm.SVC(kernel='linear', C=1, probability=True, verbose=True).fit(X_train,y_train)\n",
        "\n",
        "print(\"SVM accuracy: %.2f\"%classifier_svm.score(X_test, y_test))\n",
        "end = time.time()\n",
        "print(end-start)"
      ],
      "execution_count": null,
      "outputs": [
        {
          "output_type": "stream",
          "name": "stdout",
          "text": [
            "[LibSVM]SVM accuracy: 0.93\n",
            "1.2685844898223877\n"
          ]
        }
      ]
    },
    {
      "cell_type": "code",
      "source": [
        "#Input a phrase in mind like: ياكبر الفرح في قلبي مبسوط مره\n",
        "\n",
        "phrase = input(\"أكتب جملة تصف سعادتك أو حزنك: \")"
      ],
      "metadata": {
        "colab": {
          "base_uri": "https://localhost:8080/"
        },
        "id": "R0TlGHLMNZJ9",
        "outputId": "27b5502f-3cff-4b7b-ac41-47648fbcf6d1"
      },
      "execution_count": null,
      "outputs": [
        {
          "name": "stdout",
          "output_type": "stream",
          "text": [
            "أكتب جملة تصف سعادتك أو حزنك: كبر الفرح في قلبي مبسوط مره\n"
          ]
        }
      ]
    },
    {
      "cell_type": "code",
      "metadata": {
        "id": "g6Q4RfbrLi2O"
      },
      "source": [
        "#The phrase sentiment is predicted\n",
        "text_feature_set=tfidf_vectorizer.transform([phrase])\n",
        "\n",
        "result = classifier_svm.predict(text_feature_set)"
      ],
      "execution_count": null,
      "outputs": []
    },
    {
      "cell_type": "code",
      "source": [
        "result"
      ],
      "metadata": {
        "colab": {
          "base_uri": "https://localhost:8080/"
        },
        "id": "01A8flh9nDmu",
        "outputId": "4f349956-2f89-436f-9865-c7541e77dd09"
      },
      "execution_count": 129,
      "outputs": [
        {
          "output_type": "execute_result",
          "data": {
            "text/plain": [
              "array([1])"
            ]
          },
          "metadata": {},
          "execution_count": 129
        }
      ]
    },
    {
      "cell_type": "code",
      "source": [
        "#Load the Verses and the meters data. Alos, the Meter prediction model (AraRoBERTa_Poem_classification)\n",
        "\n",
        "from transformers import pipeline\n",
        "\n",
        "\n",
        "df_verse = pd.read_csv('https://raw.githubusercontent.com/reemalfarwan/nadeem/main/Datasets/arabic_poems_verses.csv')#call the verse file \n",
        "df_meter_names = pd.read_csv('https://raw.githubusercontent.com/reemalfarwan/nadeem/main/Datasets/meter_labels.csv')#call the meter names file (labels) \n",
        "df_meter_names[\"label\"] = pd.to_numeric(df_meter_names[\"label\"])\n",
        "\n",
        "\n",
        "def predict_meter(txt):\n",
        "  #This function calls the finetuned model to predict the verse (البيت الشعري) metre (الوزن الشعري)\n",
        "  #NOTE: The team developed both the pretrained LM and finetuned it on the classification task\n",
        "\n",
        "  classifier = pipeline(\"text-classification\", model='reemalyami/AraRoBERTa_Poem_classification')\n",
        "  verse_predction = classifier(\"txt\")\n",
        "\n",
        "  #1. It returns a list similar to [{'label': 'LABEL_1', 'score': 0.4}]\n",
        "  #2. To extract the number the list is parsed using regx\n",
        "  predicted_label_string = verse_predction[0]['label']\n",
        "  predicted_label_number = int(re.findall(\"\\d\", predicted_label_string)[0]) #it returns a list similar to ['1'] and the needed number is at the 1st index\n",
        "  meter_name = df_meter_names['verse_name'].loc[df_meter_names['label']==predicted_label_number]\n",
        "\n",
        "  print('The Suitable Verse:', txt, '\\n'*2, 'The Predicted Meter of the Verse', meter_name)\n",
        "  #print('***'*5, verse_name, '***'*5)"
      ],
      "metadata": {
        "id": "WuzfPaHV9ItB"
      },
      "execution_count": null,
      "outputs": []
    },
    {
      "cell_type": "code",
      "source": [
        "df_verse.head()"
      ],
      "metadata": {
        "colab": {
          "base_uri": "https://localhost:8080/",
          "height": 206
        },
        "id": "sfpzezWvnJMR",
        "outputId": "cb612b44-080d-41a9-b554-09b288e7284f"
      },
      "execution_count": 130,
      "outputs": [
        {
          "output_type": "execute_result",
          "data": {
            "text/plain": [
              "                                               verse  Label\n",
              "0  قالَ السَماءُ كَئيبَةٌ وَتَجَهَّما قُلتُ اِبتَ...      1\n",
              "1  قالَ الصِبا وَلّى فَقُلتُ لَهُ اِبتَسِم لَن يُ...      1\n",
              "2  قُلتُ اِبتَسِم وَاِطرَب فَلَو قارَنتَها قَضَّي...      1\n",
              "3  قُلتُ اِبتَسِم ما أَنتَ جالِبَ دائِها وَشِفائِ...      1\n",
              "4  قُلتُ اِبتَسِم لَم يَطلُبوكَ بِذَمِّهِم لَو لَ...      1"
            ],
            "text/html": [
              "\n",
              "  <div id=\"df-99418fa0-d87a-42d5-bea6-60a78408adb3\">\n",
              "    <div class=\"colab-df-container\">\n",
              "      <div>\n",
              "<style scoped>\n",
              "    .dataframe tbody tr th:only-of-type {\n",
              "        vertical-align: middle;\n",
              "    }\n",
              "\n",
              "    .dataframe tbody tr th {\n",
              "        vertical-align: top;\n",
              "    }\n",
              "\n",
              "    .dataframe thead th {\n",
              "        text-align: right;\n",
              "    }\n",
              "</style>\n",
              "<table border=\"1\" class=\"dataframe\">\n",
              "  <thead>\n",
              "    <tr style=\"text-align: right;\">\n",
              "      <th></th>\n",
              "      <th>verse</th>\n",
              "      <th>Label</th>\n",
              "    </tr>\n",
              "  </thead>\n",
              "  <tbody>\n",
              "    <tr>\n",
              "      <th>0</th>\n",
              "      <td>قالَ السَماءُ كَئيبَةٌ وَتَجَهَّما قُلتُ اِبتَ...</td>\n",
              "      <td>1</td>\n",
              "    </tr>\n",
              "    <tr>\n",
              "      <th>1</th>\n",
              "      <td>قالَ الصِبا وَلّى فَقُلتُ لَهُ اِبتَسِم لَن يُ...</td>\n",
              "      <td>1</td>\n",
              "    </tr>\n",
              "    <tr>\n",
              "      <th>2</th>\n",
              "      <td>قُلتُ اِبتَسِم وَاِطرَب فَلَو قارَنتَها قَضَّي...</td>\n",
              "      <td>1</td>\n",
              "    </tr>\n",
              "    <tr>\n",
              "      <th>3</th>\n",
              "      <td>قُلتُ اِبتَسِم ما أَنتَ جالِبَ دائِها وَشِفائِ...</td>\n",
              "      <td>1</td>\n",
              "    </tr>\n",
              "    <tr>\n",
              "      <th>4</th>\n",
              "      <td>قُلتُ اِبتَسِم لَم يَطلُبوكَ بِذَمِّهِم لَو لَ...</td>\n",
              "      <td>1</td>\n",
              "    </tr>\n",
              "  </tbody>\n",
              "</table>\n",
              "</div>\n",
              "      <button class=\"colab-df-convert\" onclick=\"convertToInteractive('df-99418fa0-d87a-42d5-bea6-60a78408adb3')\"\n",
              "              title=\"Convert this dataframe to an interactive table.\"\n",
              "              style=\"display:none;\">\n",
              "        \n",
              "  <svg xmlns=\"http://www.w3.org/2000/svg\" height=\"24px\"viewBox=\"0 0 24 24\"\n",
              "       width=\"24px\">\n",
              "    <path d=\"M0 0h24v24H0V0z\" fill=\"none\"/>\n",
              "    <path d=\"M18.56 5.44l.94 2.06.94-2.06 2.06-.94-2.06-.94-.94-2.06-.94 2.06-2.06.94zm-11 1L8.5 8.5l.94-2.06 2.06-.94-2.06-.94L8.5 2.5l-.94 2.06-2.06.94zm10 10l.94 2.06.94-2.06 2.06-.94-2.06-.94-.94-2.06-.94 2.06-2.06.94z\"/><path d=\"M17.41 7.96l-1.37-1.37c-.4-.4-.92-.59-1.43-.59-.52 0-1.04.2-1.43.59L10.3 9.45l-7.72 7.72c-.78.78-.78 2.05 0 2.83L4 21.41c.39.39.9.59 1.41.59.51 0 1.02-.2 1.41-.59l7.78-7.78 2.81-2.81c.8-.78.8-2.07 0-2.86zM5.41 20L4 18.59l7.72-7.72 1.47 1.35L5.41 20z\"/>\n",
              "  </svg>\n",
              "      </button>\n",
              "      \n",
              "  <style>\n",
              "    .colab-df-container {\n",
              "      display:flex;\n",
              "      flex-wrap:wrap;\n",
              "      gap: 12px;\n",
              "    }\n",
              "\n",
              "    .colab-df-convert {\n",
              "      background-color: #E8F0FE;\n",
              "      border: none;\n",
              "      border-radius: 50%;\n",
              "      cursor: pointer;\n",
              "      display: none;\n",
              "      fill: #1967D2;\n",
              "      height: 32px;\n",
              "      padding: 0 0 0 0;\n",
              "      width: 32px;\n",
              "    }\n",
              "\n",
              "    .colab-df-convert:hover {\n",
              "      background-color: #E2EBFA;\n",
              "      box-shadow: 0px 1px 2px rgba(60, 64, 67, 0.3), 0px 1px 3px 1px rgba(60, 64, 67, 0.15);\n",
              "      fill: #174EA6;\n",
              "    }\n",
              "\n",
              "    [theme=dark] .colab-df-convert {\n",
              "      background-color: #3B4455;\n",
              "      fill: #D2E3FC;\n",
              "    }\n",
              "\n",
              "    [theme=dark] .colab-df-convert:hover {\n",
              "      background-color: #434B5C;\n",
              "      box-shadow: 0px 1px 3px 1px rgba(0, 0, 0, 0.15);\n",
              "      filter: drop-shadow(0px 1px 2px rgba(0, 0, 0, 0.3));\n",
              "      fill: #FFFFFF;\n",
              "    }\n",
              "  </style>\n",
              "\n",
              "      <script>\n",
              "        const buttonEl =\n",
              "          document.querySelector('#df-99418fa0-d87a-42d5-bea6-60a78408adb3 button.colab-df-convert');\n",
              "        buttonEl.style.display =\n",
              "          google.colab.kernel.accessAllowed ? 'block' : 'none';\n",
              "\n",
              "        async function convertToInteractive(key) {\n",
              "          const element = document.querySelector('#df-99418fa0-d87a-42d5-bea6-60a78408adb3');\n",
              "          const dataTable =\n",
              "            await google.colab.kernel.invokeFunction('convertToInteractive',\n",
              "                                                     [key], {});\n",
              "          if (!dataTable) return;\n",
              "\n",
              "          const docLinkHtml = 'Like what you see? Visit the ' +\n",
              "            '<a target=\"_blank\" href=https://colab.research.google.com/notebooks/data_table.ipynb>data table notebook</a>'\n",
              "            + ' to learn more about interactive tables.';\n",
              "          element.innerHTML = '';\n",
              "          dataTable['output_type'] = 'display_data';\n",
              "          await google.colab.output.renderOutput(dataTable, element);\n",
              "          const docLink = document.createElement('div');\n",
              "          docLink.innerHTML = docLinkHtml;\n",
              "          element.appendChild(docLink);\n",
              "        }\n",
              "      </script>\n",
              "    </div>\n",
              "  </div>\n",
              "  "
            ]
          },
          "metadata": {},
          "execution_count": 130
        }
      ]
    },
    {
      "cell_type": "code",
      "source": [
        "#output a Verse (بيت شعر) sutiable to the user sentiment, based on the user input label. Also, the predicted verse meter (بحر بيت الشعر) \n",
        "\n",
        "verse = ''\n",
        "if result[0] == 1:\n",
        "  df_pos = df_verse.loc[df_verse['Label'] == 1]\n",
        "  verse = df_pos['verse'].sample()\n",
        "  predict_meter(verse)\n",
        "elif result[0] == 2:\n",
        "  df_neg = df_verse.loc[df_verse['Label'] == 2]\n",
        "  verse = df_neg['verse'].sample()\n",
        "  predict_meter(verse)\n",
        "else:\n",
        "  print('Check your input, please.')"
      ],
      "metadata": {
        "colab": {
          "base_uri": "https://localhost:8080/"
        },
        "id": "kZd2ftQF1EZK",
        "outputId": "5b4c6a10-3e18-48fe-98bd-4db34ed9dc71"
      },
      "execution_count": 128,
      "outputs": [
        {
          "output_type": "stream",
          "name": "stdout",
          "text": [
            "The Suitable Verse: 85    فَما لِحَوادِثِ الدُنيا بَقاءُ وَكُن رَجُلاً ع...\n",
            "Name: verse, dtype: object \n",
            "\n",
            " The Predicted Meter of the Verse 0    الطويل\n",
            "Name: verse_name, dtype: object\n"
          ]
        }
      ]
    }
  ]
}